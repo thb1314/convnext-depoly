{
 "cells": [
  {
   "cell_type": "code",
   "execution_count": null,
   "id": "cc7e5479",
   "metadata": {},
   "outputs": [],
   "source": [
    "import torch\n",
    "from ConvNeXt.models.convnext import convnext_tiny"
   ]
  },
  {
   "cell_type": "code",
   "execution_count": null,
   "id": "31af22d9",
   "metadata": {},
   "outputs": [],
   "source": [
    "model = convnext_tiny(pretrained=False, in_22k=False)"
   ]
  },
  {
   "cell_type": "code",
   "execution_count": null,
   "id": "dafb06d3",
   "metadata": {},
   "outputs": [],
   "source": [
    "state_dict = torch.load('./convnext_tiny_1k_224_ema.pth', map_location='cpu')['model']\n",
    "model.load_state_dict(state_dict)\n",
    "model = model.eval()"
   ]
  },
  {
   "cell_type": "code",
   "execution_count": null,
   "id": "496457a5",
   "metadata": {},
   "outputs": [],
   "source": [
    "dummpy_input = torch.rand(1,3,224,224)\n",
    "torch.onnx.export(model, dummpy_input, 'convnext_tiny.onnx', input_names=['input'], output_names=['output'], opset_version=13, dynamic_axes={\n",
    "    'input':{\n",
    "        0:'batch_size'\n",
    "    },\n",
    "    'output': {\n",
    "        0:'batch_size'\n",
    "    }\n",
    "})"
   ]
  },
  {
   "cell_type": "code",
   "execution_count": null,
   "id": "abb1382b",
   "metadata": {},
   "outputs": [],
   "source": [
    "import netron\n",
    "\n",
    "netron.stop()\n",
    "netron.start('convnext_tiny.onnx')"
   ]
  },
  {
   "cell_type": "markdown",
   "id": "bea4c355",
   "metadata": {},
   "source": [
    "# 去除gamma"
   ]
  },
  {
   "cell_type": "code",
   "execution_count": null,
   "id": "2cb493f5",
   "metadata": {},
   "outputs": [],
   "source": [
    "from ConvNeXt.models.convnext import Block"
   ]
  },
  {
   "cell_type": "code",
   "execution_count": null,
   "id": "31e026eb",
   "metadata": {},
   "outputs": [],
   "source": [
    "from torch.fx import symbolic_trace, GraphModule, Graph"
   ]
  },
  {
   "cell_type": "code",
   "execution_count": null,
   "id": "79916cb3",
   "metadata": {},
   "outputs": [],
   "source": [
    "import copy\n",
    "import torch.nn as nn\n",
    "from torch.fx.experimental.optimization import replace_node_module"
   ]
  },
  {
   "cell_type": "code",
   "execution_count": null,
   "id": "f0ac56ff",
   "metadata": {},
   "outputs": [],
   "source": [
    "fx_model = symbolic_trace(copy.deepcopy(model))\n",
    "graph = copy.deepcopy(fx_model.graph)\n",
    "modules = dict(fx_model.named_modules())\n",
    "state_dict = model.state_dict()\n",
    "\n",
    "for node in graph.nodes:\n",
    "    if 'get_attr' == node.op and 'gamma' in node.target:\n",
    "        prev_node = node.prev\n",
    "        prev_conv1x1_module = modules[prev_node.target]\n",
    "        gamma = state_dict[node.target]\n",
    "        # gamma(Ax+B)\n",
    "        prev_conv1x1_module.weight.data.mul_(gamma.unsqueeze(-1))\n",
    "        prev_conv1x1_module.bias.data.mul_(gamma)\n",
    "        # 将mul_node删除替换为prev_node\n",
    "#         print(node, node.format_node(), node.next)\n",
    "        next_node = node.next\n",
    "        next_node.replace_all_uses_with(prev_node)\n",
    "        graph.erase_node(next_node)\n",
    "        graph.erase_node(node)\n",
    "        \n",
    "#         print(prev_node.op, prev_node.target, prev_conv1x1_module, prev_conv1x1_module.bias.data.shape, gamma.size())\n",
    "#         print(prev_node, node)\n",
    "#     print(node, node.op, node.target)"
   ]
  },
  {
   "cell_type": "code",
   "execution_count": null,
   "id": "e8c0b727",
   "metadata": {},
   "outputs": [],
   "source": [
    "new_model = GraphModule(fx_model, graph)"
   ]
  },
  {
   "cell_type": "code",
   "execution_count": null,
   "id": "91e7e929",
   "metadata": {},
   "outputs": [],
   "source": [
    "dummpy_input = torch.rand(1,3,224,224)\n",
    "torch.onnx.export(new_model, dummpy_input, 'convnext_tiny_fuse_gamma.onnx', input_names=['input'], output_names=['output'], opset_version=13, dynamic_axes={\n",
    "    'input':{\n",
    "        0:'batch_size'\n",
    "    },\n",
    "    'output': {\n",
    "        0:'batch_size'\n",
    "    }\n",
    "})"
   ]
  },
  {
   "cell_type": "code",
   "execution_count": null,
   "id": "fee0203a",
   "metadata": {},
   "outputs": [],
   "source": [
    "# !netron convnext_tiny_fuse_gamma.onnx"
   ]
  },
  {
   "cell_type": "code",
   "execution_count": null,
   "id": "de36b338",
   "metadata": {},
   "outputs": [],
   "source": [
    "output1 = model(dummpy_input)\n",
    "output2 = new_model(dummpy_input)"
   ]
  },
  {
   "cell_type": "code",
   "execution_count": null,
   "id": "4c48b4c9",
   "metadata": {},
   "outputs": [],
   "source": [
    "torch.allclose(output1, output2, atol=1e-6)"
   ]
  },
  {
   "cell_type": "markdown",
   "id": "3eab7a4e",
   "metadata": {},
   "source": [
    "# 聚合layernorm"
   ]
  },
  {
   "cell_type": "code",
   "execution_count": null,
   "id": "56088057",
   "metadata": {},
   "outputs": [],
   "source": [
    "from ConvNeXt.models.convnext import LayerNorm"
   ]
  },
  {
   "cell_type": "code",
   "execution_count": null,
   "id": "c2495e2a",
   "metadata": {},
   "outputs": [],
   "source": [
    "from torch.autograd import Function\n",
    "import torch.nn.functional as F\n",
    "import torchvision\n",
    "\n",
    "class LayerNormFunction(Function):\n",
    "    \n",
    "    @staticmethod\n",
    "    def forward(ctx, x, normalized_shape, weight, bias, eps, data_format, method):\n",
    "        return method(x)\n",
    "        \n",
    "    @staticmethod\n",
    "    def symbolic(g, x, normalized_shape, weight, bias, eps, data_format, method):\n",
    "        return g.op(\"LayerNorm\", x, weight, bias, eps_f = eps, data_format_s = data_format) \n",
    "\n",
    "class ExportLayerNrom(LayerNorm):\n",
    "        \n",
    "    def forward(self, x):\n",
    "        if torch.onnx.is_in_onnx_export():\n",
    "            return LayerNormFunction.apply(x, self.normalized_shape, self.weight, self.bias, self.eps, self.data_format, super().forward)\n",
    "        else:\n",
    "            return super().forward(x)"
   ]
  },
  {
   "cell_type": "code",
   "execution_count": null,
   "id": "30475b28",
   "metadata": {},
   "outputs": [],
   "source": [
    "new_model = copy.deepcopy(model)\n",
    "modules = dict(new_model.named_modules())\n",
    "\n",
    "for name, module in new_model.named_modules():\n",
    "    if 'norm' in name or isinstance(module, (nn.LayerNorm, LayerNorm)):\n",
    "        weight = module.weight.data\n",
    "        bias = module.bias.data\n",
    "        names = name.split(\".\")\n",
    "        parent_model = modules[\".\".join(names[:-1])]\n",
    "        data_format = \"channels_last\"\n",
    "        if hasattr(module, 'data_format'):\n",
    "            data_format = module.data_format\n",
    "        normalized_shape = bias.nelement()\n",
    "        if hasattr(module, 'normalized_shape'):\n",
    "            normalized_shape = module.normalized_shape[0]\n",
    "        new_module = ExportLayerNrom(normalized_shape = normalized_shape, data_format=data_format, eps=module.eps).to(weight.device)\n",
    "        new_module.weight.data.copy_(weight)\n",
    "        new_module.bias.data.copy_(bias)\n",
    "        setattr(parent_model, names[-1], new_module)"
   ]
  },
  {
   "cell_type": "code",
   "execution_count": null,
   "id": "6b8fff74",
   "metadata": {},
   "outputs": [],
   "source": [
    "new_model"
   ]
  },
  {
   "cell_type": "code",
   "execution_count": null,
   "id": "d71fedfe",
   "metadata": {},
   "outputs": [],
   "source": [
    "dummpy_input = torch.rand(1,3,224,224)\n",
    "try:\n",
    "    torch.onnx.export(new_model, dummpy_input, 'convnext_tiny_rep_layernorm.onnx', \n",
    "                  input_names=['input'], output_names=['output'], \n",
    "                  opset_version=13, dynamic_axes={\n",
    "                    'input':{\n",
    "                        0:'batch_size'\n",
    "                    },\n",
    "                    'output': {\n",
    "                        0:'batch_size'\n",
    "                  }},\n",
    "    )\n",
    "except torch.onnx.CheckerError:\n",
    "    pass # ignore error"
   ]
  },
  {
   "cell_type": "code",
   "execution_count": null,
   "id": "e8c8c5d6",
   "metadata": {},
   "outputs": [],
   "source": [
    "import netron"
   ]
  },
  {
   "cell_type": "code",
   "execution_count": null,
   "id": "07c38455",
   "metadata": {},
   "outputs": [],
   "source": [
    "netron.stop()\n",
    "netron.start('convnext_tiny_rep_layernorm.onnx')"
   ]
  },
  {
   "cell_type": "markdown",
   "id": "b308c782",
   "metadata": {},
   "source": [
    "# 融合gamma和更改layernorm"
   ]
  },
  {
   "cell_type": "code",
   "execution_count": null,
   "id": "710f9513",
   "metadata": {},
   "outputs": [],
   "source": [
    "from torch.autograd import Function\n",
    "import torch.nn.functional as F\n",
    "import torchvision\n",
    "\n",
    "class LayerNormFunction(Function):\n",
    "    \n",
    "    @staticmethod\n",
    "    def forward(ctx, x, normalized_shape, weight, bias, eps, data_format, method):\n",
    "        return method(x)\n",
    "        \n",
    "    @staticmethod\n",
    "    def symbolic(g, x, normalized_shape, weight, bias, eps, data_format, method):\n",
    "        return g.op(\"LayerNorm\", x, weight, bias, eps_f = eps, data_format_s = data_format) \n",
    "\n",
    "class ExportLayerNrom(LayerNorm):\n",
    "        \n",
    "    def forward(self, x):\n",
    "        return LayerNormFunction.apply(x, self.normalized_shape, self.weight, self.bias, self.eps, self.data_format, super().forward)"
   ]
  },
  {
   "cell_type": "code",
   "execution_count": null,
   "id": "d9a0e58a",
   "metadata": {},
   "outputs": [],
   "source": [
    "class MyTracer(torch.fx.Tracer):\n",
    "    \n",
    "    def is_leaf_module(self, m, module_qualified_name):\n",
    "        return super().is_leaf_module(m, module_qualified_name) or isinstance(m, ExportLayerNrom)"
   ]
  },
  {
   "cell_type": "code",
   "execution_count": null,
   "id": "70d31f0b",
   "metadata": {},
   "outputs": [],
   "source": [
    "new_model = copy.deepcopy(model)\n",
    "modules = dict(new_model.named_modules())\n",
    "\n",
    "for name, module in new_model.named_modules():\n",
    "    if 'norm' in name or isinstance(module, (nn.LayerNorm, LayerNorm)):\n",
    "        weight = module.weight.data\n",
    "        bias = module.bias.data\n",
    "        names = name.split(\".\")\n",
    "        parent_model = modules[\".\".join(names[:-1])]\n",
    "        data_format = \"channels_last\"\n",
    "        if hasattr(module, 'data_format'):\n",
    "            data_format = module.data_format\n",
    "        normalized_shape = bias.nelement()\n",
    "        if hasattr(module, 'normalized_shape'):\n",
    "            normalized_shape = module.normalized_shape[0]\n",
    "        new_module = ExportLayerNrom(normalized_shape = normalized_shape, data_format=data_format, eps=module.eps).to(weight.device)\n",
    "        new_module.weight.data.copy_(weight)\n",
    "        new_module.bias.data.copy_(bias)\n",
    "        setattr(parent_model, names[-1], new_module)"
   ]
  },
  {
   "cell_type": "code",
   "execution_count": null,
   "id": "d3472947",
   "metadata": {},
   "outputs": [],
   "source": [
    "graph = MyTracer().trace(copy.deepcopy(new_model))\n",
    "modules = dict(new_model.named_modules())\n",
    "state_dict = new_model.state_dict()\n",
    "\n",
    "for node in graph.nodes:\n",
    "    if 'get_attr' == node.op and 'gamma' in node.target:\n",
    "        prev_node = node.prev\n",
    "        prev_conv1x1_module = modules[prev_node.target]\n",
    "        gamma = state_dict[node.target]\n",
    "        # gamma(Ax+B)\n",
    "        prev_conv1x1_module.weight.data.mul_(gamma.unsqueeze(-1))\n",
    "        prev_conv1x1_module.bias.data.mul_(gamma)\n",
    "        # 将mul_node删除替换为prev_node\n",
    "#         print(node, node.format_node(), node.next)\n",
    "        next_node = node.next\n",
    "        next_node.replace_all_uses_with(prev_node)\n",
    "        graph.erase_node(next_node)\n",
    "        graph.erase_node(node)\n"
   ]
  },
  {
   "cell_type": "code",
   "execution_count": null,
   "id": "618725c3",
   "metadata": {},
   "outputs": [],
   "source": [
    "new_model = GraphModule(new_model, graph)"
   ]
  },
  {
   "cell_type": "code",
   "execution_count": null,
   "id": "4bc3680a",
   "metadata": {},
   "outputs": [],
   "source": [
    "dummpy_input = torch.rand(1,3,224,224)\n",
    "try:\n",
    "    torch.onnx.export(new_model, dummpy_input, 'convnext_tiny_fuse_gamma_rep_layernorm.onnx', \n",
    "                  input_names=['input'], output_names=['output'], \n",
    "                  opset_version=13, dynamic_axes={\n",
    "                    'input':{\n",
    "                        0:'batch_size'\n",
    "                    },\n",
    "                    'output': {\n",
    "                        0:'batch_size'\n",
    "                  }},\n",
    "    )\n",
    "except torch.onnx.CheckerError:\n",
    "    pass # ignore error"
   ]
  },
  {
   "cell_type": "code",
   "execution_count": null,
   "id": "12a2722b",
   "metadata": {},
   "outputs": [],
   "source": [
    "netron.stop()\n",
    "netron.start('convnext_tiny_fuse_gamma_rep_layernorm.onnx')"
   ]
  },
  {
   "cell_type": "markdown",
   "id": "25c1a715",
   "metadata": {},
   "source": [
    "## 通过直接修改onnx的方式来生成LayerNorm和融合gamma"
   ]
  },
  {
   "cell_type": "code",
   "execution_count": null,
   "id": "e72c736d",
   "metadata": {},
   "outputs": [],
   "source": [
    "!python3 -m pip install onnx_graphsurgeon --index-url https://pypi.ngc.nvidia.com"
   ]
  },
  {
   "cell_type": "code",
   "execution_count": null,
   "id": "08965886",
   "metadata": {},
   "outputs": [],
   "source": [
    "import onnx_graphsurgeon as gs\n",
    "import onnx\n",
    "import numpy as np"
   ]
  },
  {
   "cell_type": "code",
   "execution_count": null,
   "id": "03ea8657",
   "metadata": {},
   "outputs": [],
   "source": [
    "onnx_graph = onnx.load('convnext_tiny.onnx')"
   ]
  },
  {
   "cell_type": "code",
   "execution_count": null,
   "id": "ccbd45ce",
   "metadata": {},
   "outputs": [],
   "source": [
    "onnx_gs_graph = gs.import_onnx(onnx_graph)"
   ]
  },
  {
   "attachments": {
    "image.png": {
     "image/png": "[encoded data removed]"
    }
   },
   "cell_type": "markdown",
   "id": "8fe15cef",
   "metadata": {},
   "source": [
    "![image.png](attachment:image.png)"
   ]
  },
  {
   "cell_type": "code",
   "execution_count": null,
   "id": "0ccb42fc",
   "metadata": {},
   "outputs": [],
   "source": [
    "for node in onnx_gs_graph.nodes:\n",
    "    \n",
    "    # 替换gamma\n",
    "    if node.op != 'Mul':\n",
    "        continue\n",
    "    try:\n",
    "        add_node = node.i(1)\n",
    "    except:\n",
    "        continue\n",
    "    if add_node.op != 'Add':\n",
    "        continue\n",
    "    try:\n",
    "        matmul_node = add_node.i(1)\n",
    "    except:\n",
    "        continue\n",
    "    if matmul_node.op != 'MatMul':\n",
    "        continue\n",
    "    gamma = node.inputs[0].values\n",
    "    weight = matmul_node.inputs[1].values\n",
    "    bias = add_node.inputs[0].values\n",
    "    print(weight.shape, bias.shape)\n",
    "    new_bias = bias * gamma\n",
    "    new_weight = weight * gamma[np.newaxis, ...]\n",
    "#     print(gamma)\n",
    "    add_node.inputs[0].values = new_bias\n",
    "    matmul_node.inputs[1].values = new_weight\n",
    "    # 去除gamma算子\n",
    "    add_node.outputs[0] = node.outputs[0]\n",
    "    node.outputs.clear()"
   ]
  },
  {
   "cell_type": "code",
   "execution_count": null,
   "id": "a4f810c9",
   "metadata": {},
   "outputs": [],
   "source": [
    "onnx_gs_graph = onnx_gs_graph.cleanup().toposort()"
   ]
  },
  {
   "cell_type": "code",
   "execution_count": null,
   "id": "854305be",
   "metadata": {},
   "outputs": [],
   "source": [
    "# 合并LayeNorm\n",
    "layernorm_idx = 0\n",
    "for node in onnx_gs_graph.nodes:\n",
    "    \n",
    "    if node.op != 'ReduceMean':\n",
    "        continue\n",
    "    try:\n",
    "        sub_nodes = list()\n",
    "        for i in range(2):\n",
    "            sub_nodes.append(node.o(i))\n",
    "    except:\n",
    "        pass\n",
    "    if not sub_nodes or sub_nodes[0].op != 'Sub':\n",
    "        continue\n",
    "    \n",
    "    div_node = None\n",
    "    pow_node = None\n",
    "    for sub_node in sub_nodes:\n",
    "        if sub_node.op != 'Sub':\n",
    "            continue\n",
    "        try:\n",
    "            for i in range(2):\n",
    "                tmp_node = sub_node.o(i)\n",
    "                if tmp_node.op == \"Div\":\n",
    "                    div_node = tmp_node\n",
    "                elif tmp_node.op == \"Pow\":\n",
    "                    pow_node = tmp_node\n",
    "        except:\n",
    "            pass\n",
    "\n",
    "    if div_node is None or pow_node is None:\n",
    "        continue\n",
    "    \n",
    "    try:\n",
    "        mul_node = div_node.o(0)\n",
    "    except:\n",
    "        continue\n",
    "    if mul_node.op != 'Mul':\n",
    "        continue\n",
    "        \n",
    "    try:\n",
    "        add_node = mul_node.o(0)\n",
    "    except:\n",
    "        continue\n",
    "    if add_node.op != 'Add':\n",
    "        continue\n",
    "    \n",
    "    \n",
    "    eps_node = pow_node.o(0).o(0)\n",
    "    eps = eps_node.inputs[1].inputs[0].attrs['value'].values\n",
    "    try:\n",
    "        weight = mul_node.inputs[1].values\n",
    "    except:\n",
    "        weight = mul_node.inputs[0].values\n",
    "        \n",
    "    try:\n",
    "        bias = add_node.inputs[0].values\n",
    "    except:\n",
    "        bias = add_node.inputs[1].values\n",
    "    \n",
    "    data_format = \"channels_last\" if int(node.attrs['axes'][0]) == -1 else \"channels_first\"\n",
    "    if data_format != \"channels_last\":\n",
    "        continue\n",
    "    attrs = {\n",
    "        'data_format':data_format,\n",
    "        'eps':float(eps)\n",
    "    }\n",
    "    layernorm_idx += 1\n",
    "    layernorm_name = 'LayerNorm-%d' % layernorm_idx\n",
    "    print('layernorm_name', layernorm_name)\n",
    "    weight_const = gs.Constant(name=layernorm_name+ \"_weight\", values=weight.reshape(-1))\n",
    "    bias_const = gs.Constant(name=layernorm_name+ \"_bias\", values=bias.reshape(-1))\n",
    "    new_layernorm_node = gs.Node('LayerNorm', name=layernorm_name, attrs=attrs, inputs = [node.inputs[0:1][0], weight_const, bias_const], outputs = add_node.outputs[0:1])\n",
    "    \n",
    "    add_node.outputs.clear()\n",
    "    node.inputs.clear()\n",
    "    sub_node.inputs.clear()\n",
    "    onnx_gs_graph.nodes.append(new_layernorm_node)"
   ]
  },
  {
   "cell_type": "code",
   "execution_count": null,
   "id": "b7fd0e39",
   "metadata": {},
   "outputs": [],
   "source": [
    "onnx_gs_graph = onnx_gs_graph.cleanup().toposort()"
   ]
  },
  {
   "cell_type": "code",
   "execution_count": null,
   "id": "98a6326a",
   "metadata": {},
   "outputs": [],
   "source": [
    "onnx.save(gs.export_onnx(onnx_gs_graph), \"convnext_tiny_rm_gamma_rep_layernorm_gs.onnx\")"
   ]
  },
  {
   "cell_type": "code",
   "execution_count": null,
   "id": "6b38fcbe",
   "metadata": {},
   "outputs": [],
   "source": [
    "netron.stop()\n",
    "netron.start('convnext_tiny_rm_gamma_rep_layernorm_gs.onnx')"
   ]
  },
  {
   "cell_type": "code",
   "execution_count": null,
   "id": "6fb576dd",
   "metadata": {},
   "outputs": [],
   "source": []
  }
 ],
 "metadata": {
  "kernelspec": {
   "display_name": "Python 3 (ipykernel)",
   "language": "python",
   "name": "python3"
  },
  "language_info": {
   "codemirror_mode": {
    "name": "ipython",
    "version": 3
   },
   "file_extension": ".py",
   "mimetype": "text/x-python",
   "name": "python",
   "nbconvert_exporter": "python",
   "pygments_lexer": "ipython3",
   "version": "3.7.13"
  }
 },
 "nbformat": 4,
 "nbformat_minor": 5
}
