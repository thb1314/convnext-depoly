{
 "cells": [
  {
   "cell_type": "markdown",
   "id": "2b417b11",
   "metadata": {},
   "source": [
    "https://github.com/roatienza/benchmark"
   ]
  },
  {
   "cell_type": "code",
   "execution_count": null,
   "id": "2cc8ca2f",
   "metadata": {},
   "outputs": [],
   "source": [
    "import torch"
   ]
  },
  {
   "cell_type": "code",
   "execution_count": null,
   "id": "67ac152a",
   "metadata": {},
   "outputs": [],
   "source": [
    "from ConvNeXt.models.convnext import convnext_tiny"
   ]
  },
  {
   "cell_type": "code",
   "execution_count": null,
   "id": "42448598",
   "metadata": {},
   "outputs": [],
   "source": [
    "model = convnext_tiny(pretrained=False, in_22k=False)"
   ]
  },
  {
   "cell_type": "code",
   "execution_count": null,
   "id": "69d56196",
   "metadata": {},
   "outputs": [],
   "source": [
    "state_dict = torch.load('./convnext_tiny_1k_224_ema.pth', map_location='cpu')['model']\n",
    "model.load_state_dict(state_dict)\n",
    "model = model.eval()"
   ]
  },
  {
   "cell_type": "code",
   "execution_count": null,
   "id": "ef60bb17",
   "metadata": {},
   "outputs": [],
   "source": [
    "torch.cuda.is_available()"
   ]
  },
  {
   "cell_type": "code",
   "execution_count": null,
   "id": "8bd8e27c",
   "metadata": {},
   "outputs": [],
   "source": [
    "device = torch.device('cuda:0')"
   ]
  },
  {
   "cell_type": "code",
   "execution_count": null,
   "id": "1f665bb3",
   "metadata": {},
   "outputs": [],
   "source": [
    "convnext_tiny = model.to(device)"
   ]
  },
  {
   "cell_type": "code",
   "execution_count": null,
   "id": "d67e8bea",
   "metadata": {},
   "outputs": [],
   "source": [
    "image = torch.rand(64,3,224,224)\n",
    "image = image.to(device)\n",
    "output = convnext_tiny(image)\n",
    "print(output.shape, output.device)"
   ]
  },
  {
   "cell_type": "code",
   "execution_count": null,
   "id": "79178851",
   "metadata": {},
   "outputs": [],
   "source": [
    "del output\n",
    "del image\n",
    "torch.cuda.empty_cache()"
   ]
  },
  {
   "cell_type": "markdown",
   "id": "e4f9ea86",
   "metadata": {},
   "source": [
    "# 与resnet速度比拼"
   ]
  },
  {
   "cell_type": "code",
   "execution_count": null,
   "id": "64d71fbb",
   "metadata": {},
   "outputs": [],
   "source": [
    "import time\n",
    "import numpy as np"
   ]
  },
  {
   "cell_type": "code",
   "execution_count": null,
   "id": "10e7fbcc",
   "metadata": {},
   "outputs": [],
   "source": [
    "def benchmark(model, input_shape=(512, 3, 224, 224), dtype='fp32', nwarmup=50, nruns=100):\n",
    "    torch.cuda.empty_cache()\n",
    "    old_value = torch.backends.cudnn.benchmark\n",
    "    torch.backends.cudnn.benchmark = True\n",
    "    input_data = torch.randn(input_shape)\n",
    "    input_data = input_data.to(\"cuda\")\n",
    "    if dtype=='fp16':\n",
    "        input_data = input_data.half()\n",
    "        \n",
    "    print(\"Warm up ...\")\n",
    "    with torch.no_grad():\n",
    "        for _ in range(nwarmup):\n",
    "            features = model(input_data)\n",
    "    torch.cuda.synchronize()\n",
    "    print(\"Start timing ...\")\n",
    "    timings = []\n",
    "    with torch.no_grad():\n",
    "        for i in range(1, nruns+1):\n",
    "            start_time = time.time()\n",
    "            pred_loc  = model(input_data)\n",
    "            torch.cuda.synchronize()\n",
    "            end_time = time.time()\n",
    "            timings.append(end_time - start_time)\n",
    "            if i%10==0:\n",
    "                print('Iteration %d/%d, avg batch time %.2f ms'%(i, nruns, np.mean(timings)*1000))\n",
    "    input_size = tuple(input_data.size())\n",
    "    del input_data\n",
    "    del features\n",
    "    torch.cuda.empty_cache()\n",
    "    torch.backends.cudnn.benchmark = old_value\n",
    "    print(\"Input shape:\", input_size)\n",
    "    print('Average throughput: %.2f images/second'%(input_shape[0]/np.mean(timings)))"
   ]
  },
  {
   "cell_type": "code",
   "execution_count": null,
   "id": "9f3f6fb5",
   "metadata": {},
   "outputs": [],
   "source": [
    "convnext_tiny = convnext_tiny.to(device)\n",
    "# 82.1 82.9\n",
    "benchmark(convnext_tiny, input_shape=(384, 3, 224, 224))"
   ]
  },
  {
   "cell_type": "code",
   "execution_count": null,
   "id": "0f448d67",
   "metadata": {},
   "outputs": [],
   "source": [
    "import timm"
   ]
  },
  {
   "cell_type": "code",
   "execution_count": null,
   "id": "7cec5044",
   "metadata": {},
   "outputs": [],
   "source": [
    "resnetv2_50_distilled = timm.create_model('resnetv2_50x1_bit_distilled', pretrained=False)\n",
    "resnetv2_50_distilled = resnetv2_50_distilled.eval()\n",
    "resnetv2_50_distilled = resnetv2_50_distilled.to(device)"
   ]
  },
  {
   "cell_type": "code",
   "execution_count": null,
   "id": "60c9f984",
   "metadata": {},
   "outputs": [],
   "source": [
    "resnetv2_50_distilled"
   ]
  },
  {
   "cell_type": "code",
   "execution_count": null,
   "id": "83ffc9f8",
   "metadata": {},
   "outputs": [],
   "source": [
    "# 82.822\n",
    "benchmark(resnetv2_50_distilled, input_shape=(384, 3, 224, 224))"
   ]
  },
  {
   "cell_type": "code",
   "execution_count": null,
   "id": "4625309a",
   "metadata": {},
   "outputs": [],
   "source": [
    "resnet50d = timm.create_model('resnet50d', pretrained=False)\n",
    "resnet50d = resnet50d.eval()\n",
    "resnet50d = resnet50d.to(device)"
   ]
  },
  {
   "cell_type": "code",
   "execution_count": null,
   "id": "33524c65",
   "metadata": {},
   "outputs": [],
   "source": [
    "# 80.528\n",
    "benchmark(resnet50d, input_shape=(384, 3, 224, 224))"
   ]
  },
  {
   "cell_type": "markdown",
   "id": "686ee7a3",
   "metadata": {},
   "source": [
    "同等规模下的模型，在cuda10.2+cudnn8.4环境下，convnext更具性价比"
   ]
  },
  {
   "cell_type": "markdown",
   "id": "d7537694",
   "metadata": {},
   "source": [
    "## 测试FLops"
   ]
  },
  {
   "cell_type": "code",
   "execution_count": null,
   "id": "6cc8e7f5",
   "metadata": {},
   "outputs": [],
   "source": [
    "import thop"
   ]
  },
  {
   "cell_type": "code",
   "execution_count": null,
   "id": "56aff24d",
   "metadata": {},
   "outputs": [],
   "source": [
    "x = torch.randn(1,3,224,224)\n",
    "convnext_tiny = convnext_tiny.to('cpu')\n",
    "flops, params = thop.profile(convnext_tiny,inputs=(x,))\n",
    "flops, params = thop.clever_format((flops, params))\n",
    "print(flops, params)"
   ]
  },
  {
   "cell_type": "code",
   "execution_count": null,
   "id": "5e890f6e",
   "metadata": {},
   "outputs": [],
   "source": [
    "from thop.vision.calc_func import calculate_parameters, calculate_zero_ops, calculate_conv2d_flops\n",
    "\n",
    "def count_your_model(model, x, y):\n",
    "    x = x[0]\n",
    "    model.total_params[0] = calculate_parameters(model.parameters())\n",
    "    model.total_ops += calculate_conv2d_flops(input_size = list(x.shape),\n",
    "        output_size = list(y.shape),\n",
    "        kernel_size = list(model.weight.shape),\n",
    "        groups = model.groups,\n",
    "        bias = model.bias)"
   ]
  },
  {
   "cell_type": "code",
   "execution_count": null,
   "id": "6836fe3e",
   "metadata": {},
   "outputs": [],
   "source": [
    "import timm\n",
    "import torch\n",
    "resnetv2_50_distilled = timm.create_model('resnetv2_50x1_bit_distilled', pretrained=False)"
   ]
  },
  {
   "cell_type": "code",
   "execution_count": null,
   "id": "8fae7729",
   "metadata": {},
   "outputs": [],
   "source": [
    "x = torch.randn(1,3,224,224)\n",
    "resnetv2_50_distilled = resnetv2_50_distilled.to('cpu')\n",
    "std_conv_type = type(resnetv2_50_distilled.stem[0])\n",
    "\n",
    "    \n",
    "flops, params = thop.profile(resnetv2_50_distilled,inputs=(x,),custom_ops={std_conv_type: count_your_model})\n",
    "flops, params = thop.clever_format((flops, params))\n",
    "print(flops, params)"
   ]
  },
  {
   "cell_type": "code",
   "execution_count": null,
   "id": "3b1e8932",
   "metadata": {},
   "outputs": [],
   "source": [
    "torch.onnx.export(resnetv2_50_distilled, x, 'resnetv2_50_distilled.onnx', input_names=['input'], output_names=['output'], opset_version=13, dynamic_axes={\n",
    "    'input':{\n",
    "        0:'batch_size'\n",
    "    },\n",
    "    'output': {\n",
    "        0:'batch_size'\n",
    "    }\n",
    "})"
   ]
  },
  {
   "cell_type": "code",
   "execution_count": null,
   "id": "4c296582",
   "metadata": {},
   "outputs": [],
   "source": [
    "import netron\n",
    "\n",
    "netron.stop()\n",
    "netron.start('resnetv2_50_distilled.onnx')"
   ]
  },
  {
   "cell_type": "code",
   "execution_count": null,
   "id": "85eb7044",
   "metadata": {},
   "outputs": [],
   "source": [
    "x = torch.randn(1,3,224,224)\n",
    "resnet50d = resnet50d.to('cpu')\n",
    "flops, params = thop.profile(resnet50d,inputs=(x,))\n",
    "flops, params = thop.clever_format((flops, params))\n",
    "print(flops, params)"
   ]
  },
  {
   "cell_type": "markdown",
   "id": "c0a5750b",
   "metadata": {},
   "source": [
    "FLOPs并不能反映实际运行时间，实际运行时间还与内存访问开销、算子的具体实现和硬件等因素相关联，但是对于同一类模型可以采用FLOPs的方式来衡量实际运行速度。"
   ]
  },
  {
   "cell_type": "markdown",
   "id": "c921fb57",
   "metadata": {},
   "source": [
    "下一步研究\n",
    "1. https://blog.csdn.net/caroline_wendy/article/details/120292130  \n",
    "   https://www.cvmart.net/community/detail/4206\n",
    "2. convnext训练过程，组件细节  \n",
    "   cait/droppath 以及初始化/参数初始化\n",
    "3. 转换为onnx后怎么压缩\n",
    "4. 在tensorrt上如何加速\n",
    "5. 结论"
   ]
  },
  {
   "cell_type": "code",
   "execution_count": null,
   "id": "4cb9d653",
   "metadata": {},
   "outputs": [],
   "source": []
  }
 ],
 "metadata": {
  "kernelspec": {
   "display_name": "Python 3 (ipykernel)",
   "language": "python",
   "name": "python3"
  },
  "language_info": {
   "codemirror_mode": {
    "name": "ipython",
    "version": 3
   },
   "file_extension": ".py",
   "mimetype": "text/x-python",
   "name": "python",
   "nbconvert_exporter": "python",
   "pygments_lexer": "ipython3",
   "version": "3.7.13"
  }
 },
 "nbformat": 4,
 "nbformat_minor": 5
}
